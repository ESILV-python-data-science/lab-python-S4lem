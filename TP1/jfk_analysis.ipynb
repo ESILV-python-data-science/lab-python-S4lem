{
 "cells": [
  {
   "cell_type": "code",
   "execution_count": 27,
   "metadata": {},
   "outputs": [],
   "source": [
    "import pandas as pd"
   ]
  },
  {
   "cell_type": "markdown",
   "metadata": {},
   "source": [
    "Exercice 2"
   ]
  },
  {
   "cell_type": "code",
   "execution_count": 29,
   "metadata": {},
   "outputs": [
    {
     "data": {
      "text/html": [
       "<div>\n",
       "<style scoped>\n",
       "    .dataframe tbody tr th:only-of-type {\n",
       "        vertical-align: middle;\n",
       "    }\n",
       "\n",
       "    .dataframe tbody tr th {\n",
       "        vertical-align: top;\n",
       "    }\n",
       "\n",
       "    .dataframe thead th {\n",
       "        text-align: right;\n",
       "    }\n",
       "</style>\n",
       "<table border=\"1\" class=\"dataframe\">\n",
       "  <thead>\n",
       "    <tr style=\"text-align: right;\">\n",
       "      <th></th>\n",
       "      <th>File Name</th>\n",
       "      <th>Record Num</th>\n",
       "      <th>NARA Release Date</th>\n",
       "      <th>Formerly Withheld</th>\n",
       "      <th>Agency</th>\n",
       "      <th>Doc Date</th>\n",
       "      <th>Doc Type</th>\n",
       "      <th>File Num</th>\n",
       "      <th>To Name</th>\n",
       "      <th>From Name</th>\n",
       "      <th>Title</th>\n",
       "      <th>Num Pages</th>\n",
       "      <th>Originator</th>\n",
       "      <th>Record Series</th>\n",
       "      <th>Review Date</th>\n",
       "      <th>Comments</th>\n",
       "      <th>Pages Released</th>\n",
       "    </tr>\n",
       "  </thead>\n",
       "  <tbody>\n",
       "    <tr>\n",
       "      <th>0</th>\n",
       "      <td>DOCID-32105709.pdf</td>\n",
       "      <td>178-10004-10309</td>\n",
       "      <td>26/10/2017</td>\n",
       "      <td>In Part</td>\n",
       "      <td>KISS/SCOW</td>\n",
       "      <td>06/05/1975</td>\n",
       "      <td>NOTES</td>\n",
       "      <td>JUNE 1975</td>\n",
       "      <td>NaN</td>\n",
       "      <td>SCOWCROFT, BRENT</td>\n",
       "      <td>P/K 5 JUNE 75</td>\n",
       "      <td>3.0</td>\n",
       "      <td>WH</td>\n",
       "      <td>SCOWCROFT MEMCONS, HANDWRITTEN</td>\n",
       "      <td>Aug/18/2017</td>\n",
       "      <td>Participants:  Ford, Kissinger, Scowcroft.  Ha...</td>\n",
       "      <td>4.0</td>\n",
       "    </tr>\n",
       "    <tr>\n",
       "      <th>1</th>\n",
       "      <td>DOCID-32105710.pdf</td>\n",
       "      <td>178-10004-10308</td>\n",
       "      <td>26/10/2017</td>\n",
       "      <td>In Part</td>\n",
       "      <td>KISS/SCOW</td>\n",
       "      <td>04/12/1975</td>\n",
       "      <td>NOTES</td>\n",
       "      <td>APRIL 1975</td>\n",
       "      <td>NaN</td>\n",
       "      <td>SCOWCROFT, BRENT</td>\n",
       "      <td>P/K 12 APR 75</td>\n",
       "      <td>2.0</td>\n",
       "      <td>WH</td>\n",
       "      <td>SCOWCROFT MEMCONS, HANDWRITTEN</td>\n",
       "      <td>Aug/18/2017</td>\n",
       "      <td>Participants:  Ford, Kissinger, Scowcroft.  Ha...</td>\n",
       "      <td>3.0</td>\n",
       "    </tr>\n",
       "  </tbody>\n",
       "</table>\n",
       "</div>"
      ],
      "text/plain": [
       "            File Name       Record Num NARA Release Date Formerly Withheld  \\\n",
       "0  DOCID-32105709.pdf  178-10004-10309        26/10/2017           In Part   \n",
       "1  DOCID-32105710.pdf  178-10004-10308        26/10/2017           In Part   \n",
       "\n",
       "      Agency    Doc Date Doc Type    File Num To Name         From Name  \\\n",
       "0  KISS/SCOW  06/05/1975    NOTES   JUNE 1975     NaN  SCOWCROFT, BRENT   \n",
       "1  KISS/SCOW  04/12/1975    NOTES  APRIL 1975     NaN  SCOWCROFT, BRENT   \n",
       "\n",
       "           Title  Num Pages Originator                   Record Series  \\\n",
       "0  P/K 5 JUNE 75        3.0         WH  SCOWCROFT MEMCONS, HANDWRITTEN   \n",
       "1  P/K 12 APR 75        2.0         WH  SCOWCROFT MEMCONS, HANDWRITTEN   \n",
       "\n",
       "    Review Date                                           Comments  \\\n",
       "0  Aug/18/2017   Participants:  Ford, Kissinger, Scowcroft.  Ha...   \n",
       "1  Aug/18/2017   Participants:  Ford, Kissinger, Scowcroft.  Ha...   \n",
       "\n",
       "   Pages Released  \n",
       "0             4.0  \n",
       "1             3.0  "
      ]
     },
     "execution_count": 29,
     "metadata": {},
     "output_type": "execute_result"
    }
   ],
   "source": [
    "jfk = pd.read_csv(\"jfkrelease-2017.csv\", sep=';')\n",
    "jfk[:2] # Look at the first 3 rows\n"
   ]
  },
  {
   "cell_type": "code",
   "execution_count": 19,
   "metadata": {},
   "outputs": [
    {
     "data": {
      "text/plain": [
       "0.0"
      ]
     },
     "execution_count": 19,
     "metadata": {},
     "output_type": "execute_result"
    }
   ],
   "source": [
    "jfk['Num Pages'].min()"
   ]
  },
  {
   "cell_type": "code",
   "execution_count": 20,
   "metadata": {},
   "outputs": [
    {
     "data": {
      "text/plain": [
       "2598.0"
      ]
     },
     "execution_count": 20,
     "metadata": {},
     "output_type": "execute_result"
    }
   ],
   "source": [
    "jfk['Num Pages'].max()"
   ]
  },
  {
   "cell_type": "code",
   "execution_count": 21,
   "metadata": {},
   "outputs": [
    {
     "data": {
      "text/plain": [
       "13.052858683926646"
      ]
     },
     "execution_count": 21,
     "metadata": {},
     "output_type": "execute_result"
    }
   ],
   "source": [
    "jfk['Num Pages'].mean()"
   ]
  },
  {
   "cell_type": "code",
   "execution_count": 25,
   "metadata": {},
   "outputs": [
    {
     "data": {
      "text/plain": [
       "3904"
      ]
     },
     "execution_count": 25,
     "metadata": {},
     "output_type": "execute_result"
    }
   ],
   "source": [
    "jfk['Num Pages'].isnull().sum()"
   ]
  },
  {
   "cell_type": "markdown",
   "metadata": {},
   "source": [
    "Exercice 3"
   ]
  },
  {
   "cell_type": "code",
   "execution_count": 30,
   "metadata": {},
   "outputs": [
    {
     "data": {
      "text/plain": [
       "36"
      ]
     },
     "execution_count": 30,
     "metadata": {},
     "output_type": "execute_result"
    }
   ],
   "source": [
    "jfk['Doc Type'].nunique()"
   ]
  },
  {
   "cell_type": "code",
   "execution_count": 38,
   "metadata": {},
   "outputs": [
    {
     "data": {
      "text/html": [
       "<div>\n",
       "<style scoped>\n",
       "    .dataframe tbody tr th:only-of-type {\n",
       "        vertical-align: middle;\n",
       "    }\n",
       "\n",
       "    .dataframe tbody tr th {\n",
       "        vertical-align: top;\n",
       "    }\n",
       "\n",
       "    .dataframe thead th {\n",
       "        text-align: right;\n",
       "    }\n",
       "</style>\n",
       "<table border=\"1\" class=\"dataframe\">\n",
       "  <thead>\n",
       "    <tr style=\"text-align: right;\">\n",
       "      <th></th>\n",
       "      <th>Num Pages</th>\n",
       "      <th>Pages Released</th>\n",
       "    </tr>\n",
       "  </thead>\n",
       "  <tbody>\n",
       "    <tr>\n",
       "      <th>count</th>\n",
       "      <td>2781.000000</td>\n",
       "      <td>2781.000000</td>\n",
       "    </tr>\n",
       "    <tr>\n",
       "      <th>mean</th>\n",
       "      <td>13.052859</td>\n",
       "      <td>13.551960</td>\n",
       "    </tr>\n",
       "    <tr>\n",
       "      <th>std</th>\n",
       "      <td>66.199690</td>\n",
       "      <td>66.277539</td>\n",
       "    </tr>\n",
       "    <tr>\n",
       "      <th>min</th>\n",
       "      <td>0.000000</td>\n",
       "      <td>2.000000</td>\n",
       "    </tr>\n",
       "    <tr>\n",
       "      <th>25%</th>\n",
       "      <td>2.000000</td>\n",
       "      <td>2.000000</td>\n",
       "    </tr>\n",
       "    <tr>\n",
       "      <th>50%</th>\n",
       "      <td>3.000000</td>\n",
       "      <td>4.000000</td>\n",
       "    </tr>\n",
       "    <tr>\n",
       "      <th>75%</th>\n",
       "      <td>8.000000</td>\n",
       "      <td>8.000000</td>\n",
       "    </tr>\n",
       "    <tr>\n",
       "      <th>max</th>\n",
       "      <td>2598.000000</td>\n",
       "      <td>2598.000000</td>\n",
       "    </tr>\n",
       "  </tbody>\n",
       "</table>\n",
       "</div>"
      ],
      "text/plain": [
       "         Num Pages  Pages Released\n",
       "count  2781.000000     2781.000000\n",
       "mean     13.052859       13.551960\n",
       "std      66.199690       66.277539\n",
       "min       0.000000        2.000000\n",
       "25%       2.000000        2.000000\n",
       "50%       3.000000        4.000000\n",
       "75%       8.000000        8.000000\n",
       "max    2598.000000     2598.000000"
      ]
     },
     "execution_count": 38,
     "metadata": {},
     "output_type": "execute_result"
    }
   ],
   "source": [
    "#table.groupby('YEARMONTH').CLIENTCODE.nunique()\n",
    "#jfk.groupby('Doc Type').DocType.nunique()"
   ]
  }
 ],
 "metadata": {
  "kernelspec": {
   "display_name": "Python 3",
   "language": "python",
   "name": "python3"
  },
  "language_info": {
   "codemirror_mode": {
    "name": "ipython",
    "version": 3
   },
   "file_extension": ".py",
   "mimetype": "text/x-python",
   "name": "python",
   "nbconvert_exporter": "python",
   "pygments_lexer": "ipython3",
   "version": "3.6.1"
  }
 },
 "nbformat": 4,
 "nbformat_minor": 2
}
